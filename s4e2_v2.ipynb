{
 "cells": [
  {
   "cell_type": "code",
   "execution_count": 59,
   "metadata": {},
   "outputs": [],
   "source": [
    "# Importing required libraries\n",
    "import pandas as pd\n",
    "import numpy as np\n",
    "\n",
    "from sklearn.model_selection import train_test_split\n",
    "import lightgbm as lgb\n",
    "from sklearn.metrics import accuracy_score\n",
    "\n",
    "import warnings\n",
    "warnings.filterwarnings('ignore')\n",
    "warnings.filterwarnings(\"ignore\", category=UserWarning)\n",
    "warnings.filterwarnings(\"ignore\", category=DeprecationWarning)\n",
    "import logging\n",
    "logging.getLogger('lightgbm').setLevel(logging.INFO)\n",
    "logging.getLogger('lightgbm').setLevel(logging.ERROR)"
   ]
  },
  {
   "cell_type": "markdown",
   "metadata": {},
   "source": [
    "#### 1、读入数据\n",
    "加入了额外数据original_data作为训练数据"
   ]
  },
  {
   "cell_type": "code",
   "execution_count": 60,
   "metadata": {},
   "outputs": [],
   "source": [
    "train_data = pd.read_csv(\"data/s4e2/train.csv\")\n",
    "test_data = pd.read_csv(\"data/s4e2/test.csv\")\n",
    "original_data = pd.read_csv(\"data/s4e2/ObesityDataSet.csv\")\n",
    "sample_submission_data = pd.read_csv(\"data/s4e2/sample_submission.csv\")"
   ]
  },
  {
   "cell_type": "markdown",
   "metadata": {},
   "source": [
    "#### 2、合并train数据\n",
    "train_data中的id列先删除，再和original_data数据合并，并去除重复数据"
   ]
  },
  {
   "cell_type": "code",
   "execution_count": 61,
   "metadata": {},
   "outputs": [
    {
     "data": {
      "text/plain": [
       "(22845, 17)"
      ]
     },
     "execution_count": 61,
     "metadata": {},
     "output_type": "execute_result"
    }
   ],
   "source": [
    "train_data = train_data.drop(\"id\", axis=1)\n",
    "train_data = pd.concat([train_data, original_data], ignore_index=True)\n",
    "train_data = train_data.drop_duplicates()\n",
    "train_data.shape"
   ]
  },
  {
   "cell_type": "markdown",
   "metadata": {},
   "source": [
    "#### 3、区分train和test中的数据列和分类列\n",
    "target的这一列还在train的cat_cols中"
   ]
  },
  {
   "cell_type": "code",
   "execution_count": 62,
   "metadata": {},
   "outputs": [],
   "source": [
    "num_cols = list(train_data.select_dtypes(exclude=['object']).columns)\n",
    "cat_cols = list(train_data.select_dtypes(include=['object']).columns)\n",
    "\n",
    "num_cols_test = list(test_data.select_dtypes(exclude=['object']).columns)\n",
    "cat_cols_test = list(test_data.select_dtypes(include=['object']).columns)\n",
    "\n",
    "num_cols_test = [col for col in num_cols_test if col not in ['id']]"
   ]
  },
  {
   "cell_type": "markdown",
   "metadata": {},
   "source": [
    "#### 4、数字列进行标准化处理\n",
    "\n",
    "train和test中的"
   ]
  },
  {
   "cell_type": "code",
   "execution_count": 63,
   "metadata": {},
   "outputs": [],
   "source": [
    "from sklearn.preprocessing import StandardScaler\n",
    "\n",
    "scaler = StandardScaler()\n",
    "train_data[num_cols] = scaler.fit_transform(train_data[num_cols])\n",
    "test_data[num_cols_test] = scaler.transform(test_data[num_cols_test])"
   ]
  },
  {
   "cell_type": "markdown",
   "metadata": {},
   "source": [
    "#### 5、分类列进行encode\n",
    "train和test都进行处理，**不包括train中的target**"
   ]
  },
  {
   "cell_type": "code",
   "execution_count": 64,
   "metadata": {},
   "outputs": [],
   "source": [
    "#  object datatype columns encoding:\n",
    "from sklearn.preprocessing import LabelEncoder\n",
    "labelencoder = LabelEncoder()\n",
    "object_columns = train_data.select_dtypes(include='object').columns.difference(['NObeyesdad'])\n",
    "\n",
    "for col_name in object_columns:\n",
    "    if train_data[col_name].dtypes=='object':\n",
    "        train_data[col_name]=labelencoder.fit_transform(train_data[col_name])\n",
    "        \n",
    "for col_name in test_data.columns:\n",
    "    if test_data[col_name].dtypes=='object':\n",
    "        test_data[col_name]=labelencoder.fit_transform(test_data[col_name])"
   ]
  },
  {
   "cell_type": "markdown",
   "metadata": {},
   "source": [
    "#### 6、train_data分为x和y\n",
    "test_data去除id，并对训练数据中的y进行encode"
   ]
  },
  {
   "cell_type": "code",
   "execution_count": 65,
   "metadata": {},
   "outputs": [],
   "source": [
    "X = train_data.drop(['NObeyesdad'], axis=1)\n",
    "y = train_data['NObeyesdad']\n",
    "y = labelencoder.fit_transform(y)\n",
    "X_test = test_data.drop([\"id\"],axis=1)"
   ]
  },
  {
   "cell_type": "code",
   "execution_count": 66,
   "metadata": {},
   "outputs": [],
   "source": [
    "X_train, X_val, y_train, y_val = train_test_split(X,y,test_size=0.2,random_state=42)"
   ]
  },
  {
   "cell_type": "markdown",
   "metadata": {},
   "source": [
    "#### 7.model:LGBMClassifier"
   ]
  },
  {
   "cell_type": "code",
   "execution_count": 67,
   "metadata": {},
   "outputs": [],
   "source": [
    "param = {\"objective\": \"multiclass\",          \n",
    "    \"metric\": \"multi_logloss\",          \n",
    "    \"verbosity\": -1,                    \n",
    "    \"boosting_type\": \"gbdt\",            \n",
    "    \"random_state\": 42,       \n",
    "    \"num_class\": 7,                     \n",
    "    'learning_rate': 0.030962211546832760,  \n",
    "    'n_estimators': 500,                \n",
    "    'lambda_l1': 0.009667446568254372,  \n",
    "    'lambda_l2': 0.04018641437301800,   \n",
    "    'max_depth': 10,                    \n",
    "    'colsample_bytree': 0.40977129346872643,  \n",
    "    'subsample': 0.9535797422450176,   \n",
    "    'min_child_samples': 26}\n",
    "\n",
    "model_lgb = lgb.LGBMClassifier(**param,verbose=100)\n",
    "model_lgb.fit(X_train, y_train)\n",
    "pred_lgb = model_lgb.predict(X_val)  # 结果\n",
    "pred_proba = model_lgb.predict_proba(X_val)  # 概率，对于每个样本，包含一个数组，数组的长度等于类别的数量，因此，对于每个样本，pred_proba 都会有七个概率值"
   ]
  },
  {
   "cell_type": "markdown",
   "metadata": {},
   "source": [
    "#### 8.使用阈值来调优"
   ]
  },
  {
   "cell_type": "code",
   "execution_count": 68,
   "metadata": {},
   "outputs": [],
   "source": [
    "import optuna\n",
    "\n",
    "def objective(trial):\n",
    "    # Define the thresholds for each class\n",
    "    thresholds = {}\n",
    "    for i in range(num_classes):\n",
    "        thresholds[f'threshold_{i}'] = trial.suggest_uniform(f'threshold_{i}', 0.0, 1.0)\n",
    "\n",
    "    # Apply the thresholds to convert probabilities to predictions\n",
    "    y_pred = apply_thresholds(pred_proba, thresholds)\n",
    "\n",
    "    # Calculate accuracy\n",
    "    accuracy = accuracy_score(y_val, y_pred)\n",
    "    return accuracy  \n",
    "\n",
    "def apply_thresholds(y_proba, thresholds):\n",
    "    # Apply the specified thresholds to convert probabilities to predicted labels\n",
    "    y_pred_labels = np.argmax(y_proba, axis=1)  # 样本数的长度(5,)\n",
    "    # print(y_pred_labels)\n",
    "    for i in range(y_proba.shape[1]):  # 类别数，(5, 3)中的3\n",
    "        bool_res = y_proba[:, i] > thresholds[f'threshold_{i}']\n",
    "        # print(bool_res)\n",
    "        y_pred_labels[bool_res] = i\n",
    "\n",
    "    return y_pred_labels"
   ]
  },
  {
   "cell_type": "markdown",
   "metadata": {},
   "source": [
    "用例子解释apply_thresholds怎么用thre来卡阈值"
   ]
  },
  {
   "cell_type": "code",
   "execution_count": 69,
   "metadata": {},
   "outputs": [
    {
     "data": {
      "text/plain": [
       "array([1, 0, 2, 2, 1], dtype=int64)"
      ]
     },
     "execution_count": 69,
     "metadata": {},
     "output_type": "execute_result"
    }
   ],
   "source": [
    "my_y = np.array([\n",
    "    [0.3, 0.6, 0.1],  # 样本1\n",
    "    [0.7, 0.2, 0.1],  # 样本2\n",
    "    [0.2, 0.2, 0.6],  # 样本3\n",
    "    [0.5, 0.3, 0.2],  # 样本4\n",
    "    [0.1, 0.8, 0.1]   # 样本5\n",
    "])\n",
    "\n",
    "# 假设我们有以下阈值字典\n",
    "my_thre = {'threshold_0': 0.4, 'threshold_1': 0.5, 'threshold_2': 0.1}  # 第一个大于阈值的类别\n",
    "my_y_pred = apply_thresholds(my_y, my_thre)\n",
    "my_y_pred\n"
   ]
  },
  {
   "cell_type": "markdown",
   "metadata": {},
   "source": [
    "始了优化过程，会运行100次试验，即调用objective函数来尝试不同的阈值组合，并找到最大化准确率的组合。"
   ]
  },
  {
   "cell_type": "code",
   "execution_count": 70,
   "metadata": {},
   "outputs": [
    {
     "name": "stderr",
     "output_type": "stream",
     "text": [
      "[I 2024-02-29 14:48:35,452] A new study created in memory with name: no-name-866d5a29-6665-4dd9-880b-ec416ffb7717\n",
      "[I 2024-02-29 14:48:35,468] Trial 0 finished with value: 0.8936309914642153 and parameters: {'threshold_0': 0.7622045623596965, 'threshold_1': 0.9355079897965807, 'threshold_2': 0.5088469144278214, 'threshold_3': 0.6801121496038931, 'threshold_4': 0.10313430806503077, 'threshold_5': 0.0902209715608897, 'threshold_6': 0.23520825922240574}. Best is trial 0 with value: 0.8936309914642153.\n",
      "[I 2024-02-29 14:48:35,475] Trial 1 finished with value: 0.9072007003720727 and parameters: {'threshold_0': 0.9621276674093883, 'threshold_1': 0.25405380334152394, 'threshold_2': 0.7800769108842507, 'threshold_3': 0.6044347492470464, 'threshold_4': 0.8546372326055873, 'threshold_5': 0.3150388333766899, 'threshold_6': 0.8882418810573716}. Best is trial 1 with value: 0.9072007003720727.\n",
      "[I 2024-02-29 14:48:35,483] Trial 2 finished with value: 0.9087327642810243 and parameters: {'threshold_0': 0.08255655031239828, 'threshold_1': 0.44677468294186296, 'threshold_2': 0.7987868182392759, 'threshold_3': 0.057511742970401736, 'threshold_4': 0.555577728704047, 'threshold_5': 0.9532314656285144, 'threshold_6': 0.9887187345067912}. Best is trial 2 with value: 0.9087327642810243.\n",
      "[I 2024-02-29 14:48:35,490] Trial 3 finished with value: 0.9128912234624644 and parameters: {'threshold_0': 0.7455149701986583, 'threshold_1': 0.21831718393693023, 'threshold_2': 0.9357552515448486, 'threshold_3': 0.7207360230494789, 'threshold_4': 0.2606626567615925, 'threshold_5': 0.6945067958304645, 'threshold_6': 0.8550004497763836}. Best is trial 3 with value: 0.9128912234624644.\n",
      "[I 2024-02-29 14:48:35,497] Trial 4 finished with value: 0.9109214270080981 and parameters: {'threshold_0': 0.5481391267298691, 'threshold_1': 0.8177721872460774, 'threshold_2': 0.7210306785817466, 'threshold_3': 0.9933876180467472, 'threshold_4': 0.34039419685782035, 'threshold_5': 0.591847765571672, 'threshold_6': 0.2895435975010803}. Best is trial 3 with value: 0.9128912234624644.\n",
      "[I 2024-02-29 14:48:35,502] Trial 5 finished with value: 0.9098270956445612 and parameters: {'threshold_0': 0.45002089873119533, 'threshold_1': 0.21351408000084826, 'threshold_2': 0.326987089863469, 'threshold_3': 0.1344662746470704, 'threshold_4': 0.26586287279134535, 'threshold_5': 0.8266360410193061, 'threshold_6': 0.47788765474837125}. Best is trial 3 with value: 0.9128912234624644.\n",
      "[I 2024-02-29 14:48:35,509] Trial 6 finished with value: 0.9082950317356095 and parameters: {'threshold_0': 0.740848269822939, 'threshold_1': 0.4911158406527676, 'threshold_2': 0.7866140558959451, 'threshold_3': 0.8747733474428929, 'threshold_4': 0.0046917902811591805, 'threshold_5': 0.43888441218462493, 'threshold_6': 0.26369427073750884}. Best is trial 3 with value: 0.9128912234624644.\n",
      "[I 2024-02-29 14:48:35,514] Trial 7 finished with value: 0.7673451521120596 and parameters: {'threshold_0': 0.5807666515612513, 'threshold_1': 0.9363318646033686, 'threshold_2': 0.3355557176638775, 'threshold_3': 0.11495954044578438, 'threshold_4': 0.4732315344938741, 'threshold_5': 0.009202910406601594, 'threshold_6': 0.03230193424680594}. Best is trial 3 with value: 0.9128912234624644.\n",
      "[I 2024-02-29 14:48:35,522] Trial 8 finished with value: 0.9067629678266579 and parameters: {'threshold_0': 0.5787445138501004, 'threshold_1': 0.9643146421425349, 'threshold_2': 0.4336724461542484, 'threshold_3': 0.8452814241274929, 'threshold_4': 0.9119255727860494, 'threshold_5': 0.2798607117830122, 'threshold_6': 0.24076433222252291}. Best is trial 3 with value: 0.9128912234624644.\n",
      "[I 2024-02-29 14:48:35,526] Trial 9 finished with value: 0.9117968920989276 and parameters: {'threshold_0': 0.9376550007030886, 'threshold_1': 0.6888964757334604, 'threshold_2': 0.36950841346355123, 'threshold_3': 0.6219246240627226, 'threshold_4': 0.29183515296696827, 'threshold_5': 0.5138917094659263, 'threshold_6': 0.30082431098137974}. Best is trial 3 with value: 0.9128912234624644.\n",
      "[I 2024-02-29 14:48:35,620] Trial 10 finished with value: 0.8614576493762311 and parameters: {'threshold_0': 0.17831057920198057, 'threshold_1': 0.00523579375624314, 'threshold_2': 0.0036979015717962804, 'threshold_3': 0.3241398620271495, 'threshold_4': 0.6240345107647236, 'threshold_5': 0.6626889942462784, 'threshold_6': 0.7630017845473883}. Best is trial 3 with value: 0.9128912234624644.\n",
      "[I 2024-02-29 14:48:35,697] Trial 11 finished with value: 0.9137666885532939 and parameters: {'threshold_0': 0.9619249021644121, 'threshold_1': 0.6948706091661514, 'threshold_2': 0.9706612534574464, 'threshold_3': 0.4207464572728179, 'threshold_4': 0.25084908594336014, 'threshold_5': 0.7489466254602275, 'threshold_6': 0.6359498429335904}. Best is trial 11 with value: 0.9137666885532939.\n",
      "[I 2024-02-29 14:48:35,765] Trial 12 finished with value: 0.9133289560078792 and parameters: {'threshold_0': 0.8067146793020856, 'threshold_1': 0.6451562673223759, 'threshold_2': 0.9417126140316959, 'threshold_3': 0.38056650558800764, 'threshold_4': 0.15303528308958086, 'threshold_5': 0.7682160722837557, 'threshold_6': 0.7391239850554764}. Best is trial 11 with value: 0.9137666885532939.\n",
      "[I 2024-02-29 14:48:35,884] Trial 13 finished with value: 0.9133289560078792 and parameters: {'threshold_0': 0.9880080294730094, 'threshold_1': 0.6579339299880534, 'threshold_2': 0.9478887853816718, 'threshold_3': 0.3769117818903423, 'threshold_4': 0.14129005037084727, 'threshold_5': 0.8366227099568831, 'threshold_6': 0.6390242686203801}. Best is trial 11 with value: 0.9137666885532939.\n",
      "[I 2024-02-29 14:48:36,057] Trial 14 finished with value: 0.9135478222805865 and parameters: {'threshold_0': 0.8376014068419878, 'threshold_1': 0.6532371538278025, 'threshold_2': 0.5771494703165169, 'threshold_3': 0.41991462556925085, 'threshold_4': 0.4196486710750006, 'threshold_5': 0.8087199427154714, 'threshold_6': 0.6000598607499408}. Best is trial 11 with value: 0.9137666885532939.\n",
      "[I 2024-02-29 14:48:36,123] Trial 15 finished with value: 0.9135478222805865 and parameters: {'threshold_0': 0.8766810325102878, 'threshold_1': 0.7936592102201898, 'threshold_2': 0.5485915151537225, 'threshold_3': 0.48044398383514764, 'threshold_4': 0.6930616277642725, 'threshold_5': 0.9250060512275022, 'threshold_6': 0.5255690816535353}. Best is trial 11 with value: 0.9137666885532939.\n",
      "[I 2024-02-29 14:48:36,178] Trial 16 finished with value: 0.9111402932808055 and parameters: {'threshold_0': 0.38893463572550124, 'threshold_1': 0.570559741313879, 'threshold_2': 0.10018904284027075, 'threshold_3': 0.24140712119120056, 'threshold_4': 0.42000558964913753, 'threshold_5': 0.9803728831562579, 'threshold_6': 0.4990150976204616}. Best is trial 11 with value: 0.9137666885532939.\n",
      "[I 2024-02-29 14:48:36,230] Trial 17 finished with value: 0.9131100897351718 and parameters: {'threshold_0': 0.6507304436670451, 'threshold_1': 0.36904502677578566, 'threshold_2': 0.6286655617254637, 'threshold_3': 0.5112813227874303, 'threshold_4': 0.7372448676740733, 'threshold_5': 0.7242391004390465, 'threshold_6': 0.6194458135580584}. Best is trial 11 with value: 0.9137666885532939.\n",
      "[I 2024-02-29 14:48:36,293] Trial 18 finished with value: 0.912015758371635 and parameters: {'threshold_0': 0.27452787826375225, 'threshold_1': 0.7602395499634874, 'threshold_2': 0.198596276240878, 'threshold_3': 0.2285036261079772, 'threshold_4': 0.38500886193527073, 'threshold_5': 0.5827395289585399, 'threshold_6': 0.4162304530767207}. Best is trial 11 with value: 0.9137666885532939.\n",
      "[I 2024-02-29 14:48:36,357] Trial 19 finished with value: 0.9135478222805865 and parameters: {'threshold_0': 0.8677897067859833, 'threshold_1': 0.5633270522604745, 'threshold_2': 0.62495789917735, 'threshold_3': 0.488751688037496, 'threshold_4': 0.5138564053535875, 'threshold_5': 0.8595080466446442, 'threshold_6': 0.6465768332369508}. Best is trial 11 with value: 0.9137666885532939.\n",
      "[I 2024-02-29 14:48:36,420] Trial 20 finished with value: 0.909170496826439 and parameters: {'threshold_0': 0.8603433618260702, 'threshold_1': 0.39445209133246073, 'threshold_2': 0.6606423269614473, 'threshold_3': 0.26004673001042117, 'threshold_4': 0.20722286355230035, 'threshold_5': 0.38872382585843956, 'threshold_6': 0.39928407199023147}. Best is trial 11 with value: 0.9137666885532939.\n",
      "[I 2024-02-29 14:48:36,465] Trial 21 finished with value: 0.9135478222805865 and parameters: {'threshold_0': 0.6861324872964858, 'threshold_1': 0.8119716971834393, 'threshold_2': 0.5289344659657823, 'threshold_3': 0.48010129411597874, 'threshold_4': 0.7014224332141918, 'threshold_5': 0.9111418905400138, 'threshold_6': 0.5778489441357347}. Best is trial 11 with value: 0.9137666885532939.\n",
      "[I 2024-02-29 14:48:36,530] Trial 22 finished with value: 0.9135478222805865 and parameters: {'threshold_0': 0.873946587033362, 'threshold_1': 0.7417010001814958, 'threshold_2': 0.5539604243905949, 'threshold_3': 0.4445622375531787, 'threshold_4': 0.7723473966339932, 'threshold_5': 0.9964154786993672, 'threshold_6': 0.7396299083514428}. Best is trial 11 with value: 0.9137666885532939.\n",
      "[I 2024-02-29 14:48:36,583] Trial 23 finished with value: 0.9135478222805865 and parameters: {'threshold_0': 0.9925141400821593, 'threshold_1': 0.8830456782749156, 'threshold_2': 0.863912716853068, 'threshold_3': 0.5741933765934449, 'threshold_4': 0.6110698422740474, 'threshold_5': 0.7812649146323203, 'threshold_6': 0.5612440737159818}. Best is trial 11 with value: 0.9137666885532939.\n",
      "[I 2024-02-29 14:48:36,652] Trial 24 finished with value: 0.9135478222805865 and parameters: {'threshold_0': 0.8740275219058588, 'threshold_1': 0.5829209755527871, 'threshold_2': 0.2401284821179932, 'threshold_3': 0.39212650443908065, 'threshold_4': 0.9955223774067241, 'threshold_5': 0.8901002704632061, 'threshold_6': 0.4191885311863838}. Best is trial 11 with value: 0.9137666885532939.\n",
      "[I 2024-02-29 14:48:36,722] Trial 25 finished with value: 0.9135478222805865 and parameters: {'threshold_0': 0.6709325657345512, 'threshold_1': 0.8445663162189032, 'threshold_2': 0.6972332529543631, 'threshold_3': 0.5657512059695923, 'threshold_4': 0.43837712023683967, 'threshold_5': 0.7660780379517372, 'threshold_6': 0.6953082852273604}. Best is trial 11 with value: 0.9137666885532939.\n",
      "[I 2024-02-29 14:48:36,868] Trial 26 finished with value: 0.9133289560078792 and parameters: {'threshold_0': 0.9037178949490257, 'threshold_1': 0.7353271862099525, 'threshold_2': 0.5783236999377127, 'threshold_3': 0.312716972121076, 'threshold_4': 0.6606762994015248, 'threshold_5': 0.6200654345143052, 'threshold_6': 0.8325671075852412}. Best is trial 11 with value: 0.9137666885532939.\n",
      "[I 2024-02-29 14:48:36,926] Trial 27 finished with value: 0.9128912234624644 and parameters: {'threshold_0': 0.7907440539900781, 'threshold_1': 0.6293410320948761, 'threshold_2': 0.44324750494709897, 'threshold_3': 0.7018215525517854, 'threshold_4': 0.5523197971244903, 'threshold_5': 0.9109412527838675, 'threshold_6': 0.5249575062847647}. Best is trial 11 with value: 0.9137666885532939.\n",
      "[I 2024-02-29 14:48:36,999] Trial 28 finished with value: 0.9122346246443424 and parameters: {'threshold_0': 0.8262206530354933, 'threshold_1': 0.7153916134425724, 'threshold_2': 0.9998931427673149, 'threshold_3': 0.4304124477006004, 'threshold_4': 0.33267912816839584, 'threshold_5': 0.522992504921076, 'threshold_6': 0.3690188753445889}. Best is trial 11 with value: 0.9137666885532939.\n",
      "[I 2024-02-29 14:48:37,064] Trial 29 finished with value: 0.8945064565550449 and parameters: {'threshold_0': 0.7504699186870109, 'threshold_1': 0.8906053435322527, 'threshold_2': 0.47034384388069084, 'threshold_3': 0.7746916525293699, 'threshold_4': 0.8201834979875363, 'threshold_5': 0.16285566269592744, 'threshold_6': 0.14182549268825861}. Best is trial 11 with value: 0.9137666885532939.\n",
      "[I 2024-02-29 14:48:37,129] Trial 30 finished with value: 0.9128912234624644 and parameters: {'threshold_0': 0.3357450187947466, 'threshold_1': 0.5360051502323523, 'threshold_2': 0.842434586137796, 'threshold_3': 0.5331774338423125, 'threshold_4': 0.05170444358875936, 'threshold_5': 0.6715467587398289, 'threshold_6': 0.4597189235022321}. Best is trial 11 with value: 0.9137666885532939.\n",
      "[I 2024-02-29 14:48:37,186] Trial 31 finished with value: 0.9135478222805865 and parameters: {'threshold_0': 0.908842712721134, 'threshold_1': 0.6065282211249428, 'threshold_2': 0.6157721224673948, 'threshold_3': 0.4597483464032386, 'threshold_4': 0.5133631314079186, 'threshold_5': 0.8579071332600968, 'threshold_6': 0.6159580635626609}. Best is trial 11 with value: 0.9137666885532939.\n",
      "[I 2024-02-29 14:48:37,247] Trial 32 finished with value: 0.9135478222805865 and parameters: {'threshold_0': 0.9995801711707097, 'threshold_1': 0.5133133357532383, 'threshold_2': 0.73484947183861, 'threshold_3': 0.6253765322113667, 'threshold_4': 0.5021753642306188, 'threshold_5': 0.8073363213336253, 'threshold_6': 0.6781548917509789}. Best is trial 11 with value: 0.9137666885532939.\n",
      "[I 2024-02-29 14:48:37,312] Trial 33 finished with value: 0.9128912234624644 and parameters: {'threshold_0': 0.9418049195446733, 'threshold_1': 0.7919847645155846, 'threshold_2': 0.39522466622313834, 'threshold_3': 0.32617479651430886, 'threshold_4': 0.5774417439549269, 'threshold_5': 0.9139664166284975, 'threshold_6': 0.7983535992935717}. Best is trial 11 with value: 0.9137666885532939.\n",
      "[I 2024-02-29 14:48:37,370] Trial 34 finished with value: 0.9137666885532939 and parameters: {'threshold_0': 0.8427087805364182, 'threshold_1': 0.4500836123547442, 'threshold_2': 0.5008074034031347, 'threshold_3': 0.5136118228093278, 'threshold_4': 0.3671984422595553, 'threshold_5': 0.7484475001586142, 'threshold_6': 0.9162317354277254}. Best is trial 11 with value: 0.9137666885532939.\n",
      "[I 2024-02-29 14:48:37,430] Trial 35 finished with value: 0.9131100897351718 and parameters: {'threshold_0': 0.7031336854116692, 'threshold_1': 0.29098266068738105, 'threshold_2': 0.5003527129827023, 'threshold_3': 0.6621111811953898, 'threshold_4': 0.2167162008380907, 'threshold_5': 0.7270810631990867, 'threshold_6': 0.9343475863126698}. Best is trial 11 with value: 0.9137666885532939.\n",
      "[I 2024-02-29 14:48:37,486] Trial 36 finished with value: 0.912672357189757 and parameters: {'threshold_0': 0.82057988309694, 'threshold_1': 0.44101534457657543, 'threshold_2': 0.26432179940316, 'threshold_3': 0.5560906640647588, 'threshold_4': 0.3704365116881227, 'threshold_5': 0.6220934897504176, 'threshold_6': 0.9999538865224027}. Best is trial 11 with value: 0.9137666885532939.\n",
      "[I 2024-02-29 14:48:37,552] Trial 37 finished with value: 0.9135478222805865 and parameters: {'threshold_0': 0.6309128753120256, 'threshold_1': 0.45267006150723677, 'threshold_2': 0.5618869400532758, 'threshold_3': 0.40924035752044136, 'threshold_4': 0.23162695403449574, 'threshold_5': 0.950229899345778, 'threshold_6': 0.9427747537488216}. Best is trial 11 with value: 0.9137666885532939.\n",
      "[I 2024-02-29 14:48:37,604] Trial 38 finished with value: 0.905668636463121 and parameters: {'threshold_0': 0.48989282259398875, 'threshold_1': 0.1415971540703207, 'threshold_2': 0.8611659308747132, 'threshold_3': 0.3016695918745143, 'threshold_4': 0.31431900853618827, 'threshold_5': 0.7275881510120786, 'threshold_6': 0.8562282983248655}. Best is trial 11 with value: 0.9137666885532939.\n",
      "[I 2024-02-29 14:48:37,672] Trial 39 finished with value: 0.9115780258262202 and parameters: {'threshold_0': 0.0436380640747841, 'threshold_1': 0.3455801618389397, 'threshold_2': 0.7426348897885899, 'threshold_3': 0.16109422567916476, 'threshold_4': 0.42176106248762835, 'threshold_5': 0.5530895247483529, 'threshold_6': 0.5648861029146911}. Best is trial 11 with value: 0.9137666885532939.\n",
      "[I 2024-02-29 14:48:37,756] Trial 40 finished with value: 0.8982271831910703 and parameters: {'threshold_0': 0.7547952085156028, 'threshold_1': 0.9948400693232035, 'threshold_2': 0.4059100210767538, 'threshold_3': 0.02062499972458065, 'threshold_4': 0.1597517589389285, 'threshold_5': 0.44502088694438546, 'threshold_6': 0.17320710547701273}. Best is trial 11 with value: 0.9137666885532939.\n",
      "[I 2024-02-29 14:48:37,812] Trial 41 finished with value: 0.9135478222805865 and parameters: {'threshold_0': 0.849087898725617, 'threshold_1': 0.5467931378053947, 'threshold_2': 0.6677883469753589, 'threshold_3': 0.5110870682010542, 'threshold_4': 0.458165777958883, 'threshold_5': 0.8531306668644617, 'threshold_6': 0.6793863256939019}. Best is trial 11 with value: 0.9137666885532939.\n",
      "[I 2024-02-29 14:48:37,884] Trial 42 finished with value: 0.9117968920989276 and parameters: {'threshold_0': 0.9257195575912938, 'threshold_1': 0.6802837220844478, 'threshold_2': 0.5996532443929884, 'threshold_3': 0.48256154063222917, 'threshold_4': 0.26788921636960356, 'threshold_5': 0.8017115257993851, 'threshold_6': 0.3451596804023935}. Best is trial 11 with value: 0.9137666885532939.\n",
      "[I 2024-02-29 14:48:37,940] Trial 43 finished with value: 0.9137666885532939 and parameters: {'threshold_0': 0.7873315674613447, 'threshold_1': 0.4783419431546176, 'threshold_2': 0.5060731232160361, 'threshold_3': 0.35502037870939007, 'threshold_4': 0.5356646566505436, 'threshold_5': 0.8795952081226999, 'threshold_6': 0.5412331608755246}. Best is trial 11 with value: 0.9137666885532939.\n",
      "[I 2024-02-29 14:48:38,000] Trial 44 finished with value: 0.9135478222805865 and parameters: {'threshold_0': 0.7960508691108974, 'threshold_1': 0.47795134637498327, 'threshold_2': 0.5010122002435375, 'threshold_3': 0.36029272493967257, 'threshold_4': 0.6699402185492332, 'threshold_5': 0.9568773381859418, 'threshold_6': 0.527639003407701}. Best is trial 11 with value: 0.9137666885532939.\n",
      "[I 2024-02-29 14:48:38,154] Trial 45 finished with value: 0.9124534909170496 and parameters: {'threshold_0': 0.9502033494075063, 'threshold_1': 0.42631742149865903, 'threshold_2': 0.3150857466188681, 'threshold_3': 0.59444564346318, 'threshold_4': 0.3781204588935282, 'threshold_5': 0.6924691787373065, 'threshold_6': 0.4479823284642317}. Best is trial 11 with value: 0.9137666885532939.\n",
      "[I 2024-02-29 14:48:38,251] Trial 46 finished with value: 0.912015758371635 and parameters: {'threshold_0': 0.7248564367220129, 'threshold_1': 0.32375572594697155, 'threshold_2': 0.4655941906878615, 'threshold_3': 0.18312047334733705, 'threshold_4': 0.55005786511345, 'threshold_5': 0.7444634585731669, 'threshold_6': 0.5000407288437241}. Best is trial 11 with value: 0.9137666885532939.\n",
      "[I 2024-02-29 14:48:38,320] Trial 47 finished with value: 0.9135478222805865 and parameters: {'threshold_0': 0.7775809570340495, 'threshold_1': 0.49264847286981256, 'threshold_2': 0.35121713391061204, 'threshold_3': 0.439386062444631, 'threshold_4': 0.2936689687856503, 'threshold_5': 0.8783047086346789, 'threshold_6': 0.787023149982325}. Best is trial 11 with value: 0.9137666885532939.\n",
      "[I 2024-02-29 14:48:38,379] Trial 48 finished with value: 0.9137666885532939 and parameters: {'threshold_0': 0.6226219419255576, 'threshold_1': 0.6857748889474858, 'threshold_2': 0.801145692622537, 'threshold_3': 0.3664760795927315, 'threshold_4': 0.6070153631874045, 'threshold_5': 0.8105400480135118, 'threshold_6': 0.5892740027226299}. Best is trial 11 with value: 0.9137666885532939.\n",
      "[I 2024-02-29 14:48:38,438] Trial 49 finished with value: 0.9133289560078792 and parameters: {'threshold_0': 0.557671952586458, 'threshold_1': 0.6244455284078875, 'threshold_2': 0.8138506245102235, 'threshold_3': 0.3475190245204784, 'threshold_4': 0.6013887684037779, 'threshold_5': 0.6393756940917253, 'threshold_6': 0.5829755572837582}. Best is trial 11 with value: 0.9137666885532939.\n",
      "[I 2024-02-29 14:48:38,494] Trial 50 finished with value: 0.912672357189757 and parameters: {'threshold_0': 0.6102723496294626, 'threshold_1': 0.697191174862587, 'threshold_2': 0.918664196857527, 'threshold_3': 0.27694785821509893, 'threshold_4': 0.483006317588849, 'threshold_5': 0.8175311856984748, 'threshold_6': 0.72439053741498}. Best is trial 11 with value: 0.9137666885532939.\n",
      "[I 2024-02-29 14:48:38,550] Trial 51 finished with value: 0.9135478222805865 and parameters: {'threshold_0': 0.9030163457143539, 'threshold_1': 0.7582599660971813, 'threshold_2': 0.7712931237571494, 'threshold_3': 0.40126508490187984, 'threshold_4': 0.7302736582514362, 'threshold_5': 0.9281215350208452, 'threshold_6': 0.6039933405589042}. Best is trial 11 with value: 0.9137666885532939.\n",
      "[I 2024-02-29 14:48:38,625] Trial 52 finished with value: 0.9128912234624644 and parameters: {'threshold_0': 0.4954193046858214, 'threshold_1': 0.6663486718224142, 'threshold_2': 0.9927931750837906, 'threshold_3': 0.21365259840901107, 'threshold_4': 0.6527029365708483, 'threshold_5': 0.8247620622402508, 'threshold_6': 0.656906118743001}. Best is trial 11 with value: 0.9137666885532939.\n",
      "[I 2024-02-29 14:48:38,699] Trial 53 finished with value: 0.9137666885532939 and parameters: {'threshold_0': 0.8286694787282837, 'threshold_1': 0.8771064427073825, 'threshold_2': 0.9080715677524794, 'threshold_3': 0.3599905122978374, 'threshold_4': 0.7851648576790166, 'threshold_5': 0.7566164755326759, 'threshold_6': 0.5411718342561725}. Best is trial 11 with value: 0.9137666885532939.\n",
      "[I 2024-02-29 14:48:38,754] Trial 54 finished with value: 0.9137666885532939 and parameters: {'threshold_0': 0.8291769268766883, 'threshold_1': 0.8582252386412955, 'threshold_2': 0.8934083547203285, 'threshold_3': 0.35392920356295593, 'threshold_4': 0.8939606561578778, 'threshold_5': 0.6977321268119006, 'threshold_6': 0.549417895044527}. Best is trial 11 with value: 0.9137666885532939.\n",
      "[I 2024-02-29 14:48:38,831] Trial 55 finished with value: 0.9113591595535128 and parameters: {'threshold_0': 0.9690339053386325, 'threshold_1': 0.9217623407150447, 'threshold_2': 0.9076919814492889, 'threshold_3': 0.08665010630607894, 'threshold_4': 0.9209206258829126, 'threshold_5': 0.6921241980715865, 'threshold_6': 0.5399822751587723}. Best is trial 11 with value: 0.9137666885532939.\n",
      "[I 2024-02-29 14:48:38,898] Trial 56 finished with value: 0.9135478222805865 and parameters: {'threshold_0': 0.7163138741400024, 'threshold_1': 0.8413938782607027, 'threshold_2': 0.8906971747569954, 'threshold_3': 0.3621136409935109, 'threshold_4': 0.8654292830513685, 'threshold_5': 0.7640022522357676, 'threshold_6': 0.4844293700491687}. Best is trial 11 with value: 0.9137666885532939.\n",
      "[I 2024-02-29 14:48:38,961] Trial 57 finished with value: 0.9135478222805865 and parameters: {'threshold_0': 0.7756805270076992, 'threshold_1': 0.9632669351639686, 'threshold_2': 0.9771828678108214, 'threshold_3': 0.9887519351162228, 'threshold_4': 0.9622629089967891, 'threshold_5': 0.5845527169580629, 'threshold_6': 0.7108861803683129}. Best is trial 11 with value: 0.9137666885532939.\n",
      "[I 2024-02-29 14:48:39,029] Trial 58 finished with value: 0.9076384329174875 and parameters: {'threshold_0': 0.1474176484487113, 'threshold_1': 0.873088561984048, 'threshold_2': 0.9565080959905916, 'threshold_3': 0.26445462594757263, 'threshold_4': 0.9023456747775331, 'threshold_5': 0.6523417638196165, 'threshold_6': 0.3160028871687448}. Best is trial 11 with value: 0.9137666885532939.\n",
      "[I 2024-02-29 14:48:39,091] Trial 59 finished with value: 0.9124534909170496 and parameters: {'threshold_0': 0.6650603192435028, 'threshold_1': 0.3918586219461291, 'threshold_2': 0.800591707239356, 'threshold_3': 0.29231254867871626, 'threshold_4': 0.7788627410093889, 'threshold_5': 0.7028154014883305, 'threshold_6': 0.44978407502563256}. Best is trial 11 with value: 0.9137666885532939.\n",
      "[I 2024-02-29 14:48:39,155] Trial 60 finished with value: 0.8021448894725323 and parameters: {'threshold_0': 0.4362526010127278, 'threshold_1': 0.7952148160395249, 'threshold_2': 0.8924423235100153, 'threshold_3': 0.3272248266916902, 'threshold_4': 0.8258691411788462, 'threshold_5': 0.7736017852010456, 'threshold_6': 0.011677697753757155}. Best is trial 11 with value: 0.9137666885532939.\n",
      "[I 2024-02-29 14:48:39,218] Trial 61 finished with value: 0.9135478222805865 and parameters: {'threshold_0': 0.8238857893307301, 'threshold_1': 0.5787836553028973, 'threshold_2': 0.829606158736336, 'threshold_3': 0.42022246789695034, 'threshold_4': 0.40133510944649353, 'threshold_5': 0.8039343129060097, 'threshold_6': 0.6351060929568814}. Best is trial 11 with value: 0.9137666885532939.\n",
      "[I 2024-02-29 14:48:39,311] Trial 62 finished with value: 0.9135478222805865 and parameters: {'threshold_0': 0.8574245760367001, 'threshold_1': 0.713104552546463, 'threshold_2': 0.9532731331438401, 'threshold_3': 0.380220284060885, 'threshold_4': 0.45440524387004133, 'threshold_5': 0.8738048448534468, 'threshold_6': 0.5855916396552204}. Best is trial 11 with value: 0.9137666885532939.\n",
      "[I 2024-02-29 14:48:39,449] Trial 63 finished with value: 0.9135478222805865 and parameters: {'threshold_0': 0.8385868585038471, 'threshold_1': 0.9314616846090416, 'threshold_2': 0.7654834787215378, 'threshold_3': 0.4524783840449566, 'threshold_4': 0.3430455454951075, 'threshold_5': 0.7419790993941788, 'threshold_6': 0.54058917964996}. Best is trial 11 with value: 0.9137666885532939.\n",
      "[I 2024-02-29 14:48:39,503] Trial 64 finished with value: 0.9135478222805865 and parameters: {'threshold_0': 0.8894819943940083, 'threshold_1': 0.8300565057920473, 'threshold_2': 0.7051791009860369, 'threshold_3': 0.5330402536563034, 'threshold_4': 0.535768708958992, 'threshold_5': 0.8343967238098335, 'threshold_6': 0.4957891457042903}. Best is trial 11 with value: 0.9137666885532939.\n",
      "[I 2024-02-29 14:48:39,575] Trial 65 finished with value: 0.9131100897351718 and parameters: {'threshold_0': 0.742974022265673, 'threshold_1': 0.5154774264146569, 'threshold_2': 0.9264410512109277, 'threshold_3': 0.3418881492418419, 'threshold_4': 0.8796579944417089, 'threshold_5': 0.7855226406324186, 'threshold_6': 0.3895163569527411}. Best is trial 11 with value: 0.9137666885532939.\n",
      "[I 2024-02-29 14:48:39,642] Trial 66 finished with value: 0.912672357189757 and parameters: {'threshold_0': 0.9626112147651935, 'threshold_1': 0.5984559775606308, 'threshold_2': 0.6564282025845412, 'threshold_3': 0.21830000023556412, 'threshold_4': 0.7574152127857209, 'threshold_5': 0.6979333124646133, 'threshold_6': 0.6136972835708865}. Best is trial 11 with value: 0.9137666885532939.\n",
      "[I 2024-02-29 14:48:39,704] Trial 67 finished with value: 0.9135478222805865 and parameters: {'threshold_0': 0.8143965352179847, 'threshold_1': 0.6606612003963136, 'threshold_2': 0.8712325711728809, 'threshold_3': 0.3944763406685386, 'threshold_4': 0.8233952798564846, 'threshold_5': 0.7552129375549972, 'threshold_6': 0.7578721759612073}. Best is trial 11 with value: 0.9137666885532939.\n",
      "[I 2024-02-29 14:48:39,764] Trial 68 finished with value: 0.9131100897351718 and parameters: {'threshold_0': 0.6970311821448059, 'threshold_1': 0.8619371224849475, 'threshold_2': 0.4632231276301847, 'threshold_3': 0.4620856501062057, 'threshold_4': 0.35273267668292735, 'threshold_5': 0.8901296564183903, 'threshold_6': 0.6492304891878232}. Best is trial 11 with value: 0.9137666885532939.\n",
      "[I 2024-02-29 14:48:39,823] Trial 69 finished with value: 0.9111402932808055 and parameters: {'threshold_0': 0.9261390694709143, 'threshold_1': 0.784446958495948, 'threshold_2': 0.42914080077146144, 'threshold_3': 0.41813977467063146, 'threshold_4': 0.18220201940541697, 'threshold_5': 0.29166442075945126, 'threshold_6': 0.42781032819388565}. Best is trial 11 with value: 0.9137666885532939.\n",
      "[I 2024-02-29 14:48:39,881] Trial 70 finished with value: 0.912672357189757 and parameters: {'threshold_0': 0.7941414451949177, 'threshold_1': 0.9051622554814136, 'threshold_2': 0.8553626507126194, 'threshold_3': 0.2451174412858379, 'threshold_4': 0.12129228512180334, 'threshold_5': 0.8423927617355151, 'threshold_6': 0.5588065230660196}. Best is trial 11 with value: 0.9137666885532939.\n",
      "[I 2024-02-29 14:48:39,948] Trial 71 finished with value: 0.9135478222805865 and parameters: {'threshold_0': 0.8664871251280938, 'threshold_1': 0.7630722424251737, 'threshold_2': 0.5620523406679427, 'threshold_3': 0.47971368659713853, 'threshold_4': 0.6838872325377594, 'threshold_5': 0.9824556404547007, 'threshold_6': 0.5062371251391744}. Best is trial 11 with value: 0.9137666885532939.\n",
      "[I 2024-02-29 14:48:40,004] Trial 72 finished with value: 0.9135478222805865 and parameters: {'threshold_0': 0.8975280877189435, 'threshold_1': 0.7295561564415475, 'threshold_2': 0.5453196625068625, 'threshold_3': 0.5272831396049854, 'threshold_4': 0.7144346825242749, 'threshold_5': 0.9437281293077332, 'threshold_6': 0.5953853063113799}. Best is trial 11 with value: 0.9137666885532939.\n",
      "[I 2024-02-29 14:48:40,078] Trial 73 finished with value: 0.9006347121908513 and parameters: {'threshold_0': 0.8484827628065901, 'threshold_1': 0.46837664700247034, 'threshold_2': 0.5867815260546188, 'threshold_3': 0.3794568215511379, 'threshold_4': 0.5871348340687221, 'threshold_5': 0.12910943140903008, 'threshold_6': 0.46148915363142323}. Best is trial 11 with value: 0.9137666885532939.\n",
      "[I 2024-02-29 14:48:40,149] Trial 74 finished with value: 0.9135478222805865 and parameters: {'threshold_0': 0.8827466219056461, 'threshold_1': 0.8161031850487319, 'threshold_2': 0.5064121391516989, 'threshold_3': 0.5053593831259279, 'threshold_4': 0.7804963207018345, 'threshold_5': 0.8921915182904692, 'threshold_6': 0.5279197666076576}. Best is trial 11 with value: 0.9137666885532939.\n",
      "[I 2024-02-29 14:48:40,210] Trial 75 finished with value: 0.9133289560078792 and parameters: {'threshold_0': 0.9778614780588414, 'threshold_1': 0.6336630818271285, 'threshold_2': 0.6310191082169105, 'threshold_3': 0.3130826057414889, 'threshold_4': 0.634200915184165, 'threshold_5': 0.7998407548866608, 'threshold_6': 0.915423715890683}. Best is trial 11 with value: 0.9137666885532939.\n",
      "[I 2024-02-29 14:48:40,273] Trial 76 finished with value: 0.9135478222805865 and parameters: {'threshold_0': 0.9250739606551911, 'threshold_1': 0.4232759468042878, 'threshold_2': 0.5246147219573977, 'threshold_3': 0.6490197354291274, 'threshold_4': 0.2450986395362151, 'threshold_5': 0.7234785553018043, 'threshold_6': 0.5458888290086619}. Best is trial 11 with value: 0.9137666885532939.\n",
      "[I 2024-02-29 14:48:40,341] Trial 77 finished with value: 0.9100459619172685 and parameters: {'threshold_0': 0.7756829610655043, 'threshold_1': 0.5446280821146208, 'threshold_2': 0.07441556013275541, 'threshold_3': 0.5622672714570124, 'threshold_4': 0.6286693347130915, 'threshold_5': 0.8519646000171344, 'threshold_6': 0.6857717453490649}. Best is trial 11 with value: 0.9137666885532939.\n",
      "[I 2024-02-29 14:48:40,397] Trial 78 finished with value: 0.8551105274677172 and parameters: {'threshold_0': 0.8150846023256589, 'threshold_1': 0.7763407050116676, 'threshold_2': 0.3896659219855555, 'threshold_3': 0.4395169439305159, 'threshold_4': 0.5757850720849096, 'threshold_5': 0.02680953653615803, 'threshold_6': 0.5726815479626841}. Best is trial 11 with value: 0.9137666885532939.\n",
      "[I 2024-02-29 14:48:40,577] Trial 79 finished with value: 0.9036988400087547 and parameters: {'threshold_0': 0.7331769956316196, 'threshold_1': 0.6870318268159445, 'threshold_2': 0.4787228513910367, 'threshold_3': 0.4766912221391841, 'threshold_4': 0.5226015426493807, 'threshold_5': 0.22699629217645179, 'threshold_6': 0.9625490503097633}. Best is trial 11 with value: 0.9137666885532939.\n",
      "[I 2024-02-29 14:48:40,642] Trial 80 finished with value: 0.9135478222805865 and parameters: {'threshold_0': 0.6020717955749116, 'threshold_1': 0.8570363485498367, 'threshold_2': 0.9544027692861575, 'threshold_3': 0.3563571971779812, 'threshold_4': 0.4812584631450588, 'threshold_5': 0.6704844554396187, 'threshold_6': 0.869482645048502}. Best is trial 11 with value: 0.9137666885532939.\n",
      "[I 2024-02-29 14:48:40,701] Trial 81 finished with value: 0.9135478222805865 and parameters: {'threshold_0': 0.8674447537605624, 'threshold_1': 0.5591170420940244, 'threshold_2': 0.5279003816225923, 'threshold_3': 0.49983959280997375, 'threshold_4': 0.3994472680455419, 'threshold_5': 0.9218582482281154, 'threshold_6': 0.6592407385818653}. Best is trial 11 with value: 0.9137666885532939.\n",
      "[I 2024-02-29 14:48:40,763] Trial 82 finished with value: 0.9128912234624644 and parameters: {'threshold_0': 0.9467790564927984, 'threshold_1': 0.5216789117141977, 'threshold_2': 0.6194297525516418, 'threshold_3': 0.6030549113495765, 'threshold_4': 0.07415555072234345, 'threshold_5': 0.860536061833725, 'threshold_6': 0.6205797081773908}. Best is trial 11 with value: 0.9137666885532939.\n",
      "[I 2024-02-29 14:48:40,823] Trial 83 finished with value: 0.9133289560078792 and parameters: {'threshold_0': 0.8332730990188414, 'threshold_1': 0.5946160651919552, 'threshold_2': 0.6800995854851745, 'threshold_3': 0.4117954739227173, 'threshold_4': 0.6954159979535479, 'threshold_5': 0.7848406373459008, 'threshold_6': 0.5176725227667486}. Best is trial 11 with value: 0.9137666885532939.\n",
      "[I 2024-02-29 14:48:40,884] Trial 84 finished with value: 0.9128912234624644 and parameters: {'threshold_0': 0.9997485845276979, 'threshold_1': 0.6181513807765326, 'threshold_2': 0.5722005706976863, 'threshold_3': 0.2913731576816922, 'threshold_4': 0.4311183712699292, 'threshold_5': 0.9666135450550869, 'threshold_6': 0.47427427590830584}. Best is trial 11 with value: 0.9137666885532939.\n",
      "[I 2024-02-29 14:48:40,959] Trial 85 finished with value: 0.8393521558327862 and parameters: {'threshold_0': 0.912268878634615, 'threshold_1': 0.0008906069855333376, 'threshold_2': 0.43051027392390107, 'threshold_3': 0.545368549428147, 'threshold_4': 0.944084569023061, 'threshold_5': 0.8219681130211166, 'threshold_6': 0.6316733075371591}. Best is trial 11 with value: 0.9137666885532939.\n",
      "[I 2024-02-29 14:48:41,020] Trial 86 finished with value: 0.9131100897351718 and parameters: {'threshold_0': 0.7641214139509444, 'threshold_1': 0.7133013710820747, 'threshold_2': 0.8895642860012357, 'threshold_3': 0.3315669595076065, 'threshold_4': 0.31032651213728496, 'threshold_5': 0.6160502060241724, 'threshold_6': 0.8310083588981327}. Best is trial 11 with value: 0.9137666885532939.\n",
      "[I 2024-02-29 14:48:41,095] Trial 87 finished with value: 0.9111402932808055 and parameters: {'threshold_0': 0.7973706222774803, 'threshold_1': 0.641532385409761, 'threshold_2': 0.6434808787291627, 'threshold_3': 0.43956975861442704, 'threshold_4': 0.5027952450657498, 'threshold_5': 0.41809853909883915, 'threshold_6': 0.5930282323909998}. Best is trial 11 with value: 0.9137666885532939.\n",
      "[I 2024-02-29 14:48:41,161] Trial 88 finished with value: 0.9135478222805865 and parameters: {'threshold_0': 0.8838776591224492, 'threshold_1': 0.9581534334628223, 'threshold_2': 0.6044331975042486, 'threshold_3': 0.37219864280725606, 'threshold_4': 0.5519639687592318, 'threshold_5': 0.9011497411731197, 'threshold_6': 0.5682974594344155}. Best is trial 11 with value: 0.9137666885532939.\n",
      "[I 2024-02-29 14:48:41,219] Trial 89 finished with value: 0.9135478222805865 and parameters: {'threshold_0': 0.30536860916001396, 'threshold_1': 0.40234901548718927, 'threshold_2': 0.540585919479632, 'threshold_3': 0.5771585165229007, 'threshold_4': 0.8034192624550585, 'threshold_5': 0.7239368846662699, 'threshold_6': 0.6622699161490314}. Best is trial 11 with value: 0.9137666885532939.\n",
      "[I 2024-02-29 14:48:41,285] Trial 90 finished with value: 0.9135478222805865 and parameters: {'threshold_0': 0.5248581626382249, 'threshold_1': 0.8101368977498823, 'threshold_2': 0.8274954539719237, 'threshold_3': 0.48978521428490346, 'threshold_4': 0.4622895876634664, 'threshold_5': 0.8721229507972225, 'threshold_6': 0.7023261273622856}. Best is trial 11 with value: 0.9137666885532939.\n",
      "[I 2024-02-29 14:48:41,339] Trial 91 finished with value: 0.9135478222805865 and parameters: {'threshold_0': 0.6526270231357414, 'threshold_1': 0.740756458728601, 'threshold_2': 0.4844688184151126, 'threshold_3': 0.47225493935582796, 'threshold_4': 0.715165292567518, 'threshold_5': 0.8374081374636309, 'threshold_6': 0.6037951588488074}. Best is trial 11 with value: 0.9137666885532939.\n",
      "[I 2024-02-29 14:48:41,408] Trial 92 finished with value: 0.9135478222805865 and parameters: {'threshold_0': 0.6881948299940382, 'threshold_1': 0.841139339802043, 'threshold_2': 0.9779241377430605, 'threshold_3': 0.39529319395562473, 'threshold_4': 0.6651007007495153, 'threshold_5': 0.9362592517756974, 'threshold_6': 0.5633900095757768}. Best is trial 11 with value: 0.9137666885532939.\n",
      "[I 2024-02-29 14:48:41,464] Trial 93 finished with value: 0.9135478222805865 and parameters: {'threshold_0': 0.8429847472188587, 'threshold_1': 0.8890412450349382, 'threshold_2': 0.5287175443268074, 'threshold_3': 0.4232369309584981, 'threshold_4': 0.6170910970026451, 'threshold_5': 0.9065560387205058, 'threshold_6': 0.5114273643547129}. Best is trial 11 with value: 0.9137666885532939.\n",
      "[I 2024-02-29 14:48:41,568] Trial 94 finished with value: 0.9026045086452178 and parameters: {'threshold_0': 0.7497344551255012, 'threshold_1': 0.09085452169087116, 'threshold_2': 0.45154953629746053, 'threshold_3': 0.5160611019811452, 'threshold_4': 0.7505487764232542, 'threshold_5': 0.7903890851397102, 'threshold_6': 0.5524533935196005}. Best is trial 11 with value: 0.9137666885532939.\n",
      "[I 2024-02-29 14:48:41,709] Trial 95 finished with value: 0.9131100897351718 and parameters: {'threshold_0': 0.7919323584838317, 'threshold_1': 0.48643354530610056, 'threshold_2': 0.598337392036745, 'threshold_3': 0.4554867444419022, 'threshold_4': 0.6418675732357731, 'threshold_5': 0.9897800031783034, 'threshold_6': 0.4823459441926995}. Best is trial 11 with value: 0.9137666885532939.\n",
      "[I 2024-02-29 14:48:41,785] Trial 96 finished with value: 0.9128912234624644 and parameters: {'threshold_0': 0.6308340699437684, 'threshold_1': 0.8042517605921272, 'threshold_2': 0.7428800602848309, 'threshold_3': 0.3463871038866313, 'threshold_4': 0.5255786298885621, 'threshold_5': 0.9611658442742376, 'threshold_6': 0.6305199714518933}. Best is trial 11 with value: 0.9137666885532939.\n",
      "[I 2024-02-29 14:48:41,859] Trial 97 finished with value: 0.9131100897351718 and parameters: {'threshold_0': 0.7137431691966338, 'threshold_1': 0.9029645242033212, 'threshold_2': 0.49137551292578086, 'threshold_3': 0.39660259186919494, 'threshold_4': 0.998333145771122, 'threshold_5': 0.7671334001317831, 'threshold_6': 0.42409466833552817}. Best is trial 11 with value: 0.9137666885532939.\n",
      "[I 2024-02-29 14:48:41,924] Trial 98 finished with value: 0.9135478222805865 and parameters: {'threshold_0': 0.810736581405272, 'threshold_1': 0.7604222661580029, 'threshold_2': 0.9080002693926095, 'threshold_3': 0.4929692983028706, 'threshold_4': 0.5744909473525543, 'threshold_5': 0.7471276882708593, 'threshold_6': 0.7373187869897667}. Best is trial 11 with value: 0.9137666885532939.\n",
      "[I 2024-02-29 14:48:41,991] Trial 99 finished with value: 0.8800612825563581 and parameters: {'threshold_0': 0.6813040863520403, 'threshold_1': 0.9954051610278888, 'threshold_2': 0.9368727800437187, 'threshold_3': 0.27491480595864004, 'threshold_4': 0.6000501602459096, 'threshold_5': 0.8089308057097933, 'threshold_6': 0.06589712999434683}. Best is trial 11 with value: 0.9137666885532939.\n"
     ]
    },
    {
     "name": "stdout",
     "output_type": "stream",
     "text": [
      "Best Thresholds: {'threshold_0': 0.9619249021644121, 'threshold_1': 0.6948706091661514, 'threshold_2': 0.9706612534574464, 'threshold_3': 0.4207464572728179, 'threshold_4': 0.25084908594336014, 'threshold_5': 0.7489466254602275, 'threshold_6': 0.6359498429335904}\n"
     ]
    }
   ],
   "source": [
    "num_classes = 7\n",
    "pred_proba = pred_proba  # Example: replace with actual y_pred_proba\n",
    "y_val = y_val  # Example: replace with actual y_val\n",
    "\n",
    "study = optuna.create_study(direction='maximize')\n",
    "study.optimize(objective, n_trials=100)\n",
    "\n",
    "# # Get the best thresholds\n",
    "best_thresholds = study.best_params\n",
    "print(\"Best Thresholds:\", best_thresholds)"
   ]
  },
  {
   "cell_type": "code",
   "execution_count": 72,
   "metadata": {},
   "outputs": [
    {
     "name": "stdout",
     "output_type": "stream",
     "text": [
      "0.9137666885532939\n"
     ]
    }
   ],
   "source": [
    "# threshold= {'threshold_0': 0.724201213234911, 'threshold_1': 0.6161299800571379, 'threshold_2': 0.29138887902587174, 'threshold_3': 0.3145837593497076, 'threshold_4': 0.8469398340837189, 'threshold_5': 0.6800824438387787, 'threshold_6': 0.35886959729223455}\n",
    "# threshold = {'threshold_0': 0.7080864899172834, 'threshold_1': 0.6995227907109729, 'threshold_2': 0.3004286663817531, 'threshold_3': 0.1881656893938678, 'threshold_4': 0.6084616291217079, 'threshold_5': 0.8455882841439035, 'threshold_6': 0.4298530141390267}\n",
    "threshold = {'threshold_0': 0.9619249021644121, 'threshold_1': 0.6948706091661514, 'threshold_2': 0.9706612534574464, 'threshold_3': 0.4207464572728179, 'threshold_4': 0.25084908594336014, 'threshold_5': 0.7489466254602275, 'threshold_6': 0.6359498429335904}\n",
    "pred_res = apply_thresholds(pred_proba, threshold)\n",
    "print(accuracy_score(pred_res, y_val))"
   ]
  },
  {
   "cell_type": "code",
   "execution_count": 73,
   "metadata": {},
   "outputs": [],
   "source": [
    "test_label = model_lgb.predict_proba(X_test)\n",
    "test_label = apply_thresholds(test_label, threshold)"
   ]
  },
  {
   "cell_type": "code",
   "execution_count": 74,
   "metadata": {},
   "outputs": [],
   "source": [
    "pred = labelencoder.inverse_transform(test_label)\n",
    "submission = pd.DataFrame({'id': test_data.id, 'NObeyesdad': pred})\n",
    "submission.to_csv('data/s4e2/submission_v2.csv', index=False)"
   ]
  }
 ],
 "metadata": {
  "kernelspec": {
   "display_name": "Python 3",
   "language": "python",
   "name": "python3"
  },
  "language_info": {
   "codemirror_mode": {
    "name": "ipython",
    "version": 3
   },
   "file_extension": ".py",
   "mimetype": "text/x-python",
   "name": "python",
   "nbconvert_exporter": "python",
   "pygments_lexer": "ipython3",
   "version": "3.12.1"
  }
 },
 "nbformat": 4,
 "nbformat_minor": 2
}
